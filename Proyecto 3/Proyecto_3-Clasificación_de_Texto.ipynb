{
  "cells": [
    {
      "cell_type": "markdown",
      "metadata": {
        "id": "IetgHJZl-A8V"
      },
      "source": [
        "# **Proyecto 3: Clasificación de Texto**\n",
        "\n",
        "https://www.kaggle.com/datasets/aadyasingh55/twitter-emotion-classification-dataset\n",
        "\n",
        "Carmen Lozano López, María Victoria Rodríguez del Corral y María Millán Gordillo."
      ]
    },
    {
      "cell_type": "code",
      "execution_count": 1,
      "metadata": {
        "colab": {
          "base_uri": "https://localhost:8080/"
        },
        "id": "9aZ_OtyspaAP",
        "outputId": "9a1038f6-76eb-4345-b9e1-03e60216f951"
      },
      "outputs": [
        {
          "name": "stdout",
          "output_type": "stream",
          "text": [
            "/usr/local/lib/python3.10/dist-packages/gdown/__main__.py:140: FutureWarning: Option `--id` was deprecated in version 4.3.1 and will be removed in 5.0. You don't need to pass it anymore to use a file ID.\n",
            "  warnings.warn(\n",
            "Downloading...\n",
            "From: https://drive.google.com/uc?id=1EguY8W_h17XnMeBd9AVlzPZj9Q6D_IFZ\n",
            "To: /content/train-00000-of-00001.parquet\n",
            "100% 26.9M/26.9M [00:00<00:00, 55.3MB/s]\n"
          ]
        }
      ],
      "source": [
        "# Download data with gdown\n",
        "# !gdown --id 1EguY8W_h17XnMeBd9AVlzPZj9Q6D_IFZ"
      ]
    },
    {
      "cell_type": "code",
      "execution_count": 2,
      "metadata": {
        "id": "0gWtbsr6pyZz"
      },
      "outputs": [],
      "source": [
        "# Load parquet data using pandas\n",
        "import pandas as pd\n",
        "\n",
        "df = pd.read_parquet('train-00000-of-00001.parquet')"
      ]
    },
    {
      "cell_type": "code",
      "execution_count": null,
      "metadata": {
        "colab": {
          "base_uri": "https://localhost:8080/"
        },
        "id": "dYKMhuQUp9h6",
        "outputId": "04756ca7-a9e0-44e4-92ee-c28004221482"
      },
      "outputs": [
        {
          "name": "stdout",
          "output_type": "stream",
          "text": [
            "\n",
            " Some data: \n",
            "                                                 text  label\n",
            "0  i feel awful about it too because it s my job ...      0\n",
            "1                              im alone i feel awful      0\n",
            "2  ive probably mentioned this before but i reall...      1\n",
            "3           i was feeling a little low few days back      0\n",
            "4  i beleive that i am much more sensitive to oth...      2\n",
            "\n",
            " Data shape: \n",
            " (416809, 2)\n",
            "\n",
            " Number of samples per class: \n",
            " label\n",
            "1    141067\n",
            "0    121187\n",
            "3     57317\n",
            "4     47712\n",
            "2     34554\n",
            "5     14972\n",
            "Name: count, dtype: int64\n"
          ]
        }
      ],
      "source": [
        "# Explore data\n",
        "print(\"\\n Some data: \\n\", df.head())\n",
        "\n",
        "print(\"\\n Data shape: \\n\", df.shape)\n",
        "\n",
        "# Count number of samples per class\n",
        "print(\"\\n Number of samples per class: \\n\", df['label'].value_counts())"
      ]
    },
    {
      "cell_type": "code",
      "execution_count": 4,
      "metadata": {
        "colab": {
          "base_uri": "https://localhost:8080/"
        },
        "id": "xMoYwP_wrlMr",
        "outputId": "1ea5ddef-9a5b-480d-a6c4-c76150b937c1"
      },
      "outputs": [
        {
          "name": "stderr",
          "output_type": "stream",
          "text": [
            "[nltk_data] Downloading package punkt to /root/nltk_data...\n",
            "[nltk_data]   Unzipping tokenizers/punkt.zip.\n",
            "[nltk_data] Downloading package punkt_tab to /root/nltk_data...\n",
            "[nltk_data]   Unzipping tokenizers/punkt_tab.zip.\n",
            "[nltk_data] Downloading package stopwords to /root/nltk_data...\n",
            "[nltk_data]   Unzipping corpora/stopwords.zip.\n"
          ]
        },
        {
          "data": {
            "text/plain": [
              "True"
            ]
          },
          "execution_count": 4,
          "metadata": {},
          "output_type": "execute_result"
        }
      ],
      "source": [
        "# Use NLTK to remove stop words\n",
        "\n",
        "import nltk\n",
        "from nltk.corpus import stopwords\n",
        "from nltk.tokenize import word_tokenize\n",
        "\n",
        "nltk.download('punkt')\n",
        "nltk.download('punkt_tab')\n",
        "nltk.download('stopwords')"
      ]
    },
    {
      "cell_type": "code",
      "execution_count": 5,
      "metadata": {
        "colab": {
          "base_uri": "https://localhost:8080/"
        },
        "id": "LAqgjwpNr5bv",
        "outputId": "c3118a55-5e2e-4271-d817-f3a9e796fb43"
      },
      "outputs": [
        {
          "name": "stdout",
          "output_type": "stream",
          "text": [
            "{'itself', 'haven', 'against', 'into', \"weren't\", 'very', 'off', \"you've\", 'm', 'has', \"needn't\", 'our', \"you'll\", 'wouldn', 'where', 'will', 'about', 'should', 'or', 'because', 'more', 'did', 'had', 'most', 'theirs', 'why', \"she's\", 'mightn', 'isn', 'd', \"hadn't\", 'are', 'herself', 'yourselves', 'under', 'any', 'o', \"wasn't\", 'with', 'shan', 'an', 'up', 'couldn', 'themselves', 'through', 'below', 'him', 'she', 'down', 'in', 'between', 'can', 'aren', 'that', 'again', 'and', \"doesn't\", 'am', 'same', 'hasn', 'ma', 'shouldn', 't', 'his', 's', 'further', 'until', \"wouldn't\", \"don't\", 'was', 'having', 'myself', 'ourselves', 'doing', 'hadn', 'there', 'while', 'only', \"didn't\", 'they', 'what', 'does', 'once', \"haven't\", 'won', 'he', 'few', 'didn', 'how', \"mightn't\", 'wasn', 'its', 'by', 'some', 'other', 'do', \"shan't\", 'don', \"it's\", 'you', 'it', \"shouldn't\", 'just', 'i', 'as', 'were', 'have', 'too', 'above', 'this', 'then', 'those', 'all', 'which', 'such', 'be', 'before', \"should've\", 'during', 'over', 'me', \"isn't\", \"won't\", 'is', 'yours', 've', 'each', 'weren', 'whom', 'her', 'yourself', 'their', 'out', \"you're\", 'these', 'your', 'from', 'after', 'not', 'on', 'mustn', 'y', 'if', 'been', 'to', 'we', \"hasn't\", 'here', 'hers', 'll', 'for', 'my', 're', 'both', 'nor', 'ain', \"you'd\", 'of', 'at', 'no', 'so', 'needn', 'himself', 'being', 'but', 'ours', 'doesn', 'than', 'now', 'who', 'the', \"couldn't\", \"that'll\", 'own', 'when', \"mustn't\", 'them', \"aren't\", 'a'}\n"
          ]
        }
      ],
      "source": [
        "# List stop words for english\n",
        "stop_words = set(stopwords.words('english'))\n",
        "print(stop_words)"
      ]
    },
    {
      "cell_type": "code",
      "execution_count": null,
      "metadata": {
        "colab": {
          "base_uri": "https://localhost:8080/"
        },
        "id": "ni2GgjtRs3UD",
        "outputId": "46bb2620-d57c-447a-ed33-44ce31c35a94"
      },
      "outputs": [
        {
          "name": "stdout",
          "output_type": "stream",
          "text": [
            "['i', 'was', 'feeling', 'a', 'little', 'low', 'few', 'days', 'back']\n",
            "['feeling', 'little', 'low', 'days', 'back']\n"
          ]
        }
      ],
      "source": [
        "# Example code to show how stop words filtering works\n",
        "\n",
        "sentence = df['text'][3]\n",
        "\n",
        "word_tokens = word_tokenize(sentence)\n",
        "\n",
        "filtered_sentence = [w for w in word_tokens if not w.lower() in stop_words]\n",
        "\n",
        "print(word_tokens)\n",
        "print(filtered_sentence)"
      ]
    },
    {
      "cell_type": "code",
      "execution_count": null,
      "metadata": {
        "id": "7oAXmsbmtSlR"
      },
      "outputs": [],
      "source": [
        "# Function to filter stop words\n",
        "\n",
        "def filter_stop_words(text):\n",
        "  stop_words = set(stopwords.words('english'))\n",
        "\n",
        "  word_tokens = word_tokenize(text)\n",
        "\n",
        "  filtered_text = [w for w in word_tokens if not w.lower() in stop_words]\n",
        "\n",
        "  return ' '.join(filtered_text)"
      ]
    },
    {
      "cell_type": "code",
      "execution_count": 8,
      "metadata": {
        "colab": {
          "base_uri": "https://localhost:8080/"
        },
        "id": "01CRU-rrtoPy",
        "outputId": "df9b17de-07d1-44d9-cac3-35b660751511"
      },
      "outputs": [
        {
          "name": "stdout",
          "output_type": "stream",
          "text": [
            "feeling little low days back\n"
          ]
        }
      ],
      "source": [
        "# Test filter_stop_words function\n",
        "print(filter_stop_words(df['text'][3]))"
      ]
    },
    {
      "cell_type": "code",
      "execution_count": null,
      "metadata": {
        "id": "ctIGeVjBtzUx"
      },
      "outputs": [],
      "source": [
        "# Add an additional column 'filtered_text' to df appying stop_words_function to column 'text'\n",
        "df['filtered_text'] = df['text'].apply(filter_stop_words)"
      ]
    },
    {
      "cell_type": "code",
      "execution_count": 10,
      "metadata": {
        "colab": {
          "base_uri": "https://localhost:8080/",
          "height": 201
        },
        "id": "sSdFrXWDvcAA",
        "outputId": "3fd1188d-7d76-4d24-9cb3-ab90713b8021"
      },
      "outputs": [
        {
          "data": {
            "application/vnd.google.colaboratory.intrinsic+json": {
              "type": "dataframe",
              "variable_name": "df"
            },
            "text/html": [
              "\n",
              "  <div id=\"df-1b664c66-b793-4b6c-982f-bfeda52ea9fc\" class=\"colab-df-container\">\n",
              "    <div>\n",
              "<style scoped>\n",
              "    .dataframe tbody tr th:only-of-type {\n",
              "        vertical-align: middle;\n",
              "    }\n",
              "\n",
              "    .dataframe tbody tr th {\n",
              "        vertical-align: top;\n",
              "    }\n",
              "\n",
              "    .dataframe thead th {\n",
              "        text-align: right;\n",
              "    }\n",
              "</style>\n",
              "<table border=\"1\" class=\"dataframe\">\n",
              "  <thead>\n",
              "    <tr style=\"text-align: right;\">\n",
              "      <th></th>\n",
              "      <th>text</th>\n",
              "      <th>label</th>\n",
              "      <th>filtered_text</th>\n",
              "    </tr>\n",
              "  </thead>\n",
              "  <tbody>\n",
              "    <tr>\n",
              "      <th>0</th>\n",
              "      <td>i feel awful about it too because it s my job ...</td>\n",
              "      <td>0</td>\n",
              "      <td>feel awful job get position succeed happen</td>\n",
              "    </tr>\n",
              "    <tr>\n",
              "      <th>1</th>\n",
              "      <td>im alone i feel awful</td>\n",
              "      <td>0</td>\n",
              "      <td>im alone feel awful</td>\n",
              "    </tr>\n",
              "    <tr>\n",
              "      <th>2</th>\n",
              "      <td>ive probably mentioned this before but i reall...</td>\n",
              "      <td>1</td>\n",
              "      <td>ive probably mentioned really feel proud actua...</td>\n",
              "    </tr>\n",
              "    <tr>\n",
              "      <th>3</th>\n",
              "      <td>i was feeling a little low few days back</td>\n",
              "      <td>0</td>\n",
              "      <td>feeling little low days back</td>\n",
              "    </tr>\n",
              "    <tr>\n",
              "      <th>4</th>\n",
              "      <td>i beleive that i am much more sensitive to oth...</td>\n",
              "      <td>2</td>\n",
              "      <td>beleive much sensitive peoples feelings tend c...</td>\n",
              "    </tr>\n",
              "  </tbody>\n",
              "</table>\n",
              "</div>\n",
              "    <div class=\"colab-df-buttons\">\n",
              "\n",
              "  <div class=\"colab-df-container\">\n",
              "    <button class=\"colab-df-convert\" onclick=\"convertToInteractive('df-1b664c66-b793-4b6c-982f-bfeda52ea9fc')\"\n",
              "            title=\"Convert this dataframe to an interactive table.\"\n",
              "            style=\"display:none;\">\n",
              "\n",
              "  <svg xmlns=\"http://www.w3.org/2000/svg\" height=\"24px\" viewBox=\"0 -960 960 960\">\n",
              "    <path d=\"M120-120v-720h720v720H120Zm60-500h600v-160H180v160Zm220 220h160v-160H400v160Zm0 220h160v-160H400v160ZM180-400h160v-160H180v160Zm440 0h160v-160H620v160ZM180-180h160v-160H180v160Zm440 0h160v-160H620v160Z\"/>\n",
              "  </svg>\n",
              "    </button>\n",
              "\n",
              "  <style>\n",
              "    .colab-df-container {\n",
              "      display:flex;\n",
              "      gap: 12px;\n",
              "    }\n",
              "\n",
              "    .colab-df-convert {\n",
              "      background-color: #E8F0FE;\n",
              "      border: none;\n",
              "      border-radius: 50%;\n",
              "      cursor: pointer;\n",
              "      display: none;\n",
              "      fill: #1967D2;\n",
              "      height: 32px;\n",
              "      padding: 0 0 0 0;\n",
              "      width: 32px;\n",
              "    }\n",
              "\n",
              "    .colab-df-convert:hover {\n",
              "      background-color: #E2EBFA;\n",
              "      box-shadow: 0px 1px 2px rgba(60, 64, 67, 0.3), 0px 1px 3px 1px rgba(60, 64, 67, 0.15);\n",
              "      fill: #174EA6;\n",
              "    }\n",
              "\n",
              "    .colab-df-buttons div {\n",
              "      margin-bottom: 4px;\n",
              "    }\n",
              "\n",
              "    [theme=dark] .colab-df-convert {\n",
              "      background-color: #3B4455;\n",
              "      fill: #D2E3FC;\n",
              "    }\n",
              "\n",
              "    [theme=dark] .colab-df-convert:hover {\n",
              "      background-color: #434B5C;\n",
              "      box-shadow: 0px 1px 3px 1px rgba(0, 0, 0, 0.15);\n",
              "      filter: drop-shadow(0px 1px 2px rgba(0, 0, 0, 0.3));\n",
              "      fill: #FFFFFF;\n",
              "    }\n",
              "  </style>\n",
              "\n",
              "    <script>\n",
              "      const buttonEl =\n",
              "        document.querySelector('#df-1b664c66-b793-4b6c-982f-bfeda52ea9fc button.colab-df-convert');\n",
              "      buttonEl.style.display =\n",
              "        google.colab.kernel.accessAllowed ? 'block' : 'none';\n",
              "\n",
              "      async function convertToInteractive(key) {\n",
              "        const element = document.querySelector('#df-1b664c66-b793-4b6c-982f-bfeda52ea9fc');\n",
              "        const dataTable =\n",
              "          await google.colab.kernel.invokeFunction('convertToInteractive',\n",
              "                                                    [key], {});\n",
              "        if (!dataTable) return;\n",
              "\n",
              "        const docLinkHtml = 'Like what you see? Visit the ' +\n",
              "          '<a target=\"_blank\" href=https://colab.research.google.com/notebooks/data_table.ipynb>data table notebook</a>'\n",
              "          + ' to learn more about interactive tables.';\n",
              "        element.innerHTML = '';\n",
              "        dataTable['output_type'] = 'display_data';\n",
              "        await google.colab.output.renderOutput(dataTable, element);\n",
              "        const docLink = document.createElement('div');\n",
              "        docLink.innerHTML = docLinkHtml;\n",
              "        element.appendChild(docLink);\n",
              "      }\n",
              "    </script>\n",
              "  </div>\n",
              "\n",
              "\n",
              "<div id=\"df-92c4f337-c4bb-4206-b4d6-73ce4d47605c\">\n",
              "  <button class=\"colab-df-quickchart\" onclick=\"quickchart('df-92c4f337-c4bb-4206-b4d6-73ce4d47605c')\"\n",
              "            title=\"Suggest charts\"\n",
              "            style=\"display:none;\">\n",
              "\n",
              "<svg xmlns=\"http://www.w3.org/2000/svg\" height=\"24px\"viewBox=\"0 0 24 24\"\n",
              "     width=\"24px\">\n",
              "    <g>\n",
              "        <path d=\"M19 3H5c-1.1 0-2 .9-2 2v14c0 1.1.9 2 2 2h14c1.1 0 2-.9 2-2V5c0-1.1-.9-2-2-2zM9 17H7v-7h2v7zm4 0h-2V7h2v10zm4 0h-2v-4h2v4z\"/>\n",
              "    </g>\n",
              "</svg>\n",
              "  </button>\n",
              "\n",
              "<style>\n",
              "  .colab-df-quickchart {\n",
              "      --bg-color: #E8F0FE;\n",
              "      --fill-color: #1967D2;\n",
              "      --hover-bg-color: #E2EBFA;\n",
              "      --hover-fill-color: #174EA6;\n",
              "      --disabled-fill-color: #AAA;\n",
              "      --disabled-bg-color: #DDD;\n",
              "  }\n",
              "\n",
              "  [theme=dark] .colab-df-quickchart {\n",
              "      --bg-color: #3B4455;\n",
              "      --fill-color: #D2E3FC;\n",
              "      --hover-bg-color: #434B5C;\n",
              "      --hover-fill-color: #FFFFFF;\n",
              "      --disabled-bg-color: #3B4455;\n",
              "      --disabled-fill-color: #666;\n",
              "  }\n",
              "\n",
              "  .colab-df-quickchart {\n",
              "    background-color: var(--bg-color);\n",
              "    border: none;\n",
              "    border-radius: 50%;\n",
              "    cursor: pointer;\n",
              "    display: none;\n",
              "    fill: var(--fill-color);\n",
              "    height: 32px;\n",
              "    padding: 0;\n",
              "    width: 32px;\n",
              "  }\n",
              "\n",
              "  .colab-df-quickchart:hover {\n",
              "    background-color: var(--hover-bg-color);\n",
              "    box-shadow: 0 1px 2px rgba(60, 64, 67, 0.3), 0 1px 3px 1px rgba(60, 64, 67, 0.15);\n",
              "    fill: var(--button-hover-fill-color);\n",
              "  }\n",
              "\n",
              "  .colab-df-quickchart-complete:disabled,\n",
              "  .colab-df-quickchart-complete:disabled:hover {\n",
              "    background-color: var(--disabled-bg-color);\n",
              "    fill: var(--disabled-fill-color);\n",
              "    box-shadow: none;\n",
              "  }\n",
              "\n",
              "  .colab-df-spinner {\n",
              "    border: 2px solid var(--fill-color);\n",
              "    border-color: transparent;\n",
              "    border-bottom-color: var(--fill-color);\n",
              "    animation:\n",
              "      spin 1s steps(1) infinite;\n",
              "  }\n",
              "\n",
              "  @keyframes spin {\n",
              "    0% {\n",
              "      border-color: transparent;\n",
              "      border-bottom-color: var(--fill-color);\n",
              "      border-left-color: var(--fill-color);\n",
              "    }\n",
              "    20% {\n",
              "      border-color: transparent;\n",
              "      border-left-color: var(--fill-color);\n",
              "      border-top-color: var(--fill-color);\n",
              "    }\n",
              "    30% {\n",
              "      border-color: transparent;\n",
              "      border-left-color: var(--fill-color);\n",
              "      border-top-color: var(--fill-color);\n",
              "      border-right-color: var(--fill-color);\n",
              "    }\n",
              "    40% {\n",
              "      border-color: transparent;\n",
              "      border-right-color: var(--fill-color);\n",
              "      border-top-color: var(--fill-color);\n",
              "    }\n",
              "    60% {\n",
              "      border-color: transparent;\n",
              "      border-right-color: var(--fill-color);\n",
              "    }\n",
              "    80% {\n",
              "      border-color: transparent;\n",
              "      border-right-color: var(--fill-color);\n",
              "      border-bottom-color: var(--fill-color);\n",
              "    }\n",
              "    90% {\n",
              "      border-color: transparent;\n",
              "      border-bottom-color: var(--fill-color);\n",
              "    }\n",
              "  }\n",
              "</style>\n",
              "\n",
              "  <script>\n",
              "    async function quickchart(key) {\n",
              "      const quickchartButtonEl =\n",
              "        document.querySelector('#' + key + ' button');\n",
              "      quickchartButtonEl.disabled = true;  // To prevent multiple clicks.\n",
              "      quickchartButtonEl.classList.add('colab-df-spinner');\n",
              "      try {\n",
              "        const charts = await google.colab.kernel.invokeFunction(\n",
              "            'suggestCharts', [key], {});\n",
              "      } catch (error) {\n",
              "        console.error('Error during call to suggestCharts:', error);\n",
              "      }\n",
              "      quickchartButtonEl.classList.remove('colab-df-spinner');\n",
              "      quickchartButtonEl.classList.add('colab-df-quickchart-complete');\n",
              "    }\n",
              "    (() => {\n",
              "      let quickchartButtonEl =\n",
              "        document.querySelector('#df-92c4f337-c4bb-4206-b4d6-73ce4d47605c button');\n",
              "      quickchartButtonEl.style.display =\n",
              "        google.colab.kernel.accessAllowed ? 'block' : 'none';\n",
              "    })();\n",
              "  </script>\n",
              "</div>\n",
              "\n",
              "    </div>\n",
              "  </div>\n"
            ],
            "text/plain": [
              "                                                text  label  \\\n",
              "0  i feel awful about it too because it s my job ...      0   \n",
              "1                              im alone i feel awful      0   \n",
              "2  ive probably mentioned this before but i reall...      1   \n",
              "3           i was feeling a little low few days back      0   \n",
              "4  i beleive that i am much more sensitive to oth...      2   \n",
              "\n",
              "                                       filtered_text  \n",
              "0         feel awful job get position succeed happen  \n",
              "1                                im alone feel awful  \n",
              "2  ive probably mentioned really feel proud actua...  \n",
              "3                       feeling little low days back  \n",
              "4  beleive much sensitive peoples feelings tend c...  "
            ]
          },
          "execution_count": 10,
          "metadata": {},
          "output_type": "execute_result"
        }
      ],
      "source": [
        "# Verify the result\n",
        "df.head()"
      ]
    },
    {
      "cell_type": "markdown",
      "metadata": {
        "id": "ajQQBhQWvvRh"
      },
      "source": [
        "\n",
        "**Observaciones**\n",
        "\n",
        "* En este momento los datos son textos filtrados de largo variable y una etiqueta de clase. Para poder proceder a la clasificación vamos a representar los textos con un vector numérico.\n",
        "* CountVectorizer de sklearn tiene opciones de lower case y remoción de stop words."
      ]
    },
    {
      "cell_type": "code",
      "execution_count": 11,
      "metadata": {
        "id": "lo40oTOdwEpU"
      },
      "outputs": [],
      "source": [
        "from sklearn.feature_extraction.text import CountVectorizer\n",
        "\n",
        "# Process filtered_text with CountVectorizer limiting to 20000 words\n",
        "vectorizer = CountVectorizer(max_features=1000)\n",
        "X = vectorizer.fit_transform(df['filtered_text'])"
      ]
    },
    {
      "cell_type": "code",
      "execution_count": 12,
      "metadata": {
        "colab": {
          "base_uri": "https://localhost:8080/"
        },
        "id": "375m14M1wyRE",
        "outputId": "6cc80de6-385a-4251-d894-eead10a2a00a"
      },
      "outputs": [
        {
          "name": "stdout",
          "output_type": "stream",
          "text": [
            "(416809, 1000)\n"
          ]
        }
      ],
      "source": [
        "# Display X shape\n",
        "print(X.shape)"
      ]
    },
    {
      "cell_type": "code",
      "execution_count": null,
      "metadata": {
        "id": "dTkxjzzJxa7T"
      },
      "outputs": [],
      "source": [
        "# Train and test split\n",
        "from sklearn.model_selection import train_test_split\n",
        "import random\n",
        "random.seed(42)\n",
        "\n",
        "X_train, X_test, y_train, y_test = train_test_split(X, df['label'], test_size=0.5, random_state=42, stratify=df['label'])"
      ]
    },
    {
      "cell_type": "markdown",
      "metadata": {
        "id": "7GVbz_ET2WiH"
      },
      "source": [
        "# Proyecto\n",
        "\n",
        "El proyecto tiene por objetivo desarrollar un clasificador que permita clasificar los textos maximizando el accuracy.\n",
        "\n",
        "Es importante que observen que en el código de referencia se limitaron las cantidad de palabras a 5000 cuando el total de palabras es significativamente mayor (puede probar CountVectorizer sin limitar el número de palabras para obtener el número total).\n",
        "\n",
        "## Opción 1:\n",
        "Desarrollar la solución mediante técnicas clásicas de clasificación.\n",
        "\n",
        "## Opición 2:\n",
        "Implementar la solución usando redes neuronales."
      ]
    },
    {
      "cell_type": "markdown",
      "metadata": {
        "id": "h-3n8tP3e5d9"
      },
      "source": [
        "# **OPCIÓN 1**"
      ]
    },
    {
      "cell_type": "markdown",
      "metadata": {
        "id": "lH30HT8ufCVM"
      },
      "source": [
        "Vamos a tratar de resolver el problema de clasificación empleando técnicas clásicas.\n",
        "\n",
        "A continuación, vamos a realizar una comparación de distintas técnicas empleando los parámetros por defecto."
      ]
    },
    {
      "cell_type": "markdown",
      "metadata": {
        "id": "Yow6DH58fU7L"
      },
      "source": [
        "## MultinomialNB\n",
        "\n",
        "El modelo Multinomial Naive Bayes (MultinomialNB) es una variante del algoritmo Naive Bayes que se suele usar en problemas de clasificación donde las características representan conteos o frecuencias discretas.\n",
        "* Asumimos que las características son condicionalmente independientes entre sí, dado la clase objetivo.\n",
        "* Datos de entrada siguen una distribución multinomial.\n"
      ]
    },
    {
      "cell_type": "code",
      "execution_count": null,
      "metadata": {
        "colab": {
          "base_uri": "https://localhost:8080/"
        },
        "id": "robfn6aJ7YA-",
        "outputId": "22eff96d-e39f-4fbc-987b-f18957b5b304"
      },
      "outputs": [
        {
          "name": "stdout",
          "output_type": "stream",
          "text": [
            "Tiempo de entrenamiento 0.05993056297302246\n",
            "Tiempo de predicción 0.021675586700439453\n",
            "El accuracy del modelo es 0.8632806314627768\n",
            "Matriz de confusión\n",
            "[[55531  2543   268  1247   890   115]\n",
            " [ 2310 64623  2336   467   511   287]\n",
            " [  511  3910 12543   185   101    27]\n",
            " [ 2398  2290   185 22983   740    62]\n",
            " [ 1789  1384    89   916 18828   850]\n",
            " [  150   728    44    48  1112  5404]]\n"
          ]
        }
      ],
      "source": [
        "from sklearn.naive_bayes import MultinomialNB\n",
        "import time\n",
        "\n",
        "# Create the model\n",
        "model = MultinomialNB()\n",
        "\n",
        "# Train the model\n",
        "empieza=time.time()\n",
        "model.fit(X_train, y_train)\n",
        "fin=time.time()\n",
        "\n",
        "print('Tiempo de entrenamiento', fin - empieza)\n",
        "\n",
        "# Predict the model\n",
        "empieza=time.time()\n",
        "y_pred = model.predict(X_test)\n",
        "fin=time.time()\n",
        "\n",
        "print('Tiempo de predicción', fin-empieza)\n",
        "\n",
        "\n",
        "print('El accuracy del modelo es', model.score(X_test, y_test))\n",
        "\n",
        "from sklearn.metrics import confusion_matrix\n",
        "print('Matriz de confusión')\n",
        "cm = confusion_matrix(y_test, y_pred)\n",
        "print(cm)\n"
      ]
    },
    {
      "cell_type": "markdown",
      "metadata": {
        "id": "Gh2UEo6Df-c9"
      },
      "source": [
        "Con este modelo obtenemos un accuracy del 86% evaluando en el conjunto de test. Vemos que es muy eficiente ya que tarda 0.05 segundos en entrenarse y 0.021 en realizar la predicción."
      ]
    },
    {
      "cell_type": "markdown",
      "metadata": {
        "id": "acZ-h2UjgQBS"
      },
      "source": [
        "## LDA\n",
        "\n",
        "LDA se basa en un modelo probabilístico generativo que utiliza principios de probabilidad. Creemos que puede ofrecernos buenos resultados debido a que separa múltiples clases con múltiples características mediante la reducción de la dimensionalidad de los datos."
      ]
    },
    {
      "cell_type": "code",
      "execution_count": null,
      "metadata": {
        "colab": {
          "base_uri": "https://localhost:8080/"
        },
        "id": "kZg7ocSQ8ORI",
        "outputId": "52a29a50-0c21-4d19-ca9e-7ea622a3bc36"
      },
      "outputs": [
        {
          "name": "stdout",
          "output_type": "stream",
          "text": [
            "Tiempo de entrenamiento 91.57662057876587\n",
            "Tiempo de predicción 0.022758007049560547\n",
            "El accuracy del modelo es 0.861092584151052\n",
            "Matriz de confusión\n",
            "[[52967  3625   483  1731  1530   258]\n",
            " [ 1113 63810  4207   429   544   431]\n",
            " [  149  2478 14440    70    68    72]\n",
            " [  833  3525   161 23235   783   121]\n",
            " [  487  2092   101   765 18563  1848]\n",
            " [   55   730    32    16   212  6441]]\n"
          ]
        }
      ],
      "source": [
        "from sklearn.discriminant_analysis import LinearDiscriminantAnalysis as LDA\n",
        "import time\n",
        "\n",
        "# Create the model\n",
        "model = LDA()\n",
        "\n",
        "# Train the model\n",
        "empieza=time.time()\n",
        "model.fit(X_train.toarray(), y_train)\n",
        "fin=time.time()\n",
        "\n",
        "print('Tiempo de entrenamiento', fin - empieza)\n",
        "\n",
        "# Predict the model\n",
        "empieza=time.time()\n",
        "y_pred = model.predict(X_test)\n",
        "fin=time.time()\n",
        "\n",
        "print('Tiempo de predicción', fin-empieza)\n",
        "\n",
        "print('El accuracy del modelo es', model.score(X_test, y_test))\n",
        "\n",
        "print('Matriz de confusión')\n",
        "cm = confusion_matrix(y_test, y_pred)\n",
        "print(cm)"
      ]
    },
    {
      "cell_type": "markdown",
      "metadata": {
        "id": "KnyThr--hcKY"
      },
      "source": [
        "Observamos que obtenemos un accuracy similar al anterior pero el tiempo de entrenamiento es mucho más alto, en contraste la predicción es ligeramente más rápida. Aunque por ahora, dados estos resultados consideramos que es mejor el modelo anterior."
      ]
    },
    {
      "cell_type": "code",
      "execution_count": null,
      "metadata": {
        "colab": {
          "base_uri": "https://localhost:8080/"
        },
        "id": "c6A8dTfJ9PwP",
        "outputId": "d9ebc861-9adf-4aae-ab30-2ef1280ba1d9"
      },
      "outputs": [
        {
          "data": {
            "text/plain": [
              "3385"
            ]
          },
          "execution_count": 21,
          "metadata": {},
          "output_type": "execute_result"
        }
      ],
      "source": [
        "# Limpiamos caché de colab\n",
        "import gc\n",
        "gc.collect()"
      ]
    },
    {
      "cell_type": "markdown",
      "metadata": {
        "id": "fHdOzlvjhyy-"
      },
      "source": [
        "## GaussianNB\n",
        "\n",
        "Gaussian Naive Bayes es una variante del modelo Naive Bayes que se utiliza cuando los atributos del modelo:\n",
        "* son continuas\n",
        "*se asume que estas características siguen una distribución normal (gaussiana).\n",
        "*Se supone que las características son independientes entre sí, dado la clase.\n"
      ]
    },
    {
      "cell_type": "code",
      "execution_count": null,
      "metadata": {
        "colab": {
          "base_uri": "https://localhost:8080/"
        },
        "id": "-IpEgUE_9QmJ",
        "outputId": "7739b78b-844b-4ac4-b7bf-ff4ac6d02baf"
      },
      "outputs": [
        {
          "name": "stdout",
          "output_type": "stream",
          "text": [
            "Tiempo de entrenamiento 12.638181924819946\n",
            "Tiempo de predicción 12.586576700210571\n",
            "El accuracy del modelo es 0.6852378781699096\n",
            "Matriz de confusión\n",
            "[[43368   318  1569  1566  1569 12204]\n",
            " [  483 40534  8629   315   544 20029]\n",
            " [  148   354 14539    82    71  2083]\n",
            " [  481   160   751 20854  1092  5320]\n",
            " [  366   167   257   459 16421  6186]\n",
            " [   64    91   105    25   110  7091]]\n"
          ]
        }
      ],
      "source": [
        "from sklearn.naive_bayes import GaussianNB\n",
        "\n",
        "# Create the model\n",
        "model = GaussianNB()\n",
        "\n",
        "# Train the model\n",
        "empieza=time.time()\n",
        "model.fit(X_train.toarray(), y_train)\n",
        "fin=time.time()\n",
        "\n",
        "print('Tiempo de entrenamiento', fin - empieza)\n",
        "\n",
        "# Predict the model\n",
        "empieza=time.time()\n",
        "y_pred = model.predict(X_test.toarray())\n",
        "fin=time.time()\n",
        "\n",
        "print('Tiempo de predicción', fin-empieza)\n",
        "\n",
        "print('El accuracy del modelo es', model.score(X_test.toarray(), y_test))\n",
        "\n",
        "print('Matriz de confusión')\n",
        "cm = confusion_matrix(y_test, y_pred)\n",
        "print(cm)"
      ]
    },
    {
      "cell_type": "markdown",
      "metadata": {
        "id": "BlTUN6hUz2Pt"
      },
      "source": [
        "El resultado obtenido con este modelo es mucho peor que los anteriores, esto puede ser debido a que este modelo asume que los atributos de entrada tienen una distribución continua y simétrica alrededor de la media. Sin embargo, los valores de los atributos, como las frecuencias de palabras, son típicamente enteros no negativos, y no siguen distribuciones normales. Las frecuencias de las palabras pueden ser bajas para muchas palabras en un documento, lo que hace que no se ajusten bien al modelo gaussiano.\n",
        "\n",
        "Por otro lado, MultinomialNB hemos visto que ofrece mejores resultados, esto puede deberse a que considera las palabras como eventos discretos, lo que se asemeja más a la realidad."
      ]
    },
    {
      "cell_type": "markdown",
      "metadata": {
        "id": "Cg7eEFMziTP3"
      },
      "source": [
        "## Árboles de decisión"
      ]
    },
    {
      "cell_type": "markdown",
      "metadata": {
        "id": "0O1oqiqb1A8r"
      },
      "source": [
        "También hemos tratado de resolver el problema empleando árboles de decisión ya que están basados en reglas que son fáciles de interpretar. Por ejemplo:\n",
        "* Si el texto contiene ciertas palabras, se podría dirigir a cierta categoría.\n",
        "\n",
        "Además, seleccionan las características o palabras que realmente ayudan a distinguir entre clases y trabajan bien en entornos con dispersión de datos, que es un escenario frecuente ya que muchas palabras que están en el volcabulario no aparecen en todas las muestras."
      ]
    },
    {
      "cell_type": "code",
      "execution_count": null,
      "metadata": {
        "colab": {
          "base_uri": "https://localhost:8080/"
        },
        "id": "rxnEr2f098Hf",
        "outputId": "dee0893a-6de2-4105-a8fa-1820401680e2"
      },
      "outputs": [
        {
          "name": "stdout",
          "output_type": "stream",
          "text": [
            "Tiempo de entrenamiento 94.10892748832703\n",
            "Tiempo de predicción 0.22374463081359863\n",
            "El accuracy del modelo es 0.811381684700463\n",
            "Matriz de confusión\n",
            "[[53023  2367   592  2471  1904   237]\n",
            " [ 3203 59268  4388  1727  1304   644]\n",
            " [  490  4910 11332   310   189    46]\n",
            " [ 2594  1534   242 22919  1277    92]\n",
            " [ 1752  1262   171  1635 17701  1335]\n",
            " [  172   759    43    62  1597  4853]]\n"
          ]
        }
      ],
      "source": [
        "from sklearn.tree import DecisionTreeClassifier\n",
        "\n",
        "# Create the model\n",
        "model = DecisionTreeClassifier()\n",
        "\n",
        "# Train the model\n",
        "empieza=time.time()\n",
        "model.fit(X_train, y_train)\n",
        "fin=time.time()\n",
        "\n",
        "print('Tiempo de entrenamiento', fin - empieza)\n",
        "\n",
        "# Predict the model\n",
        "empieza=time.time()\n",
        "y_pred = model.predict(X_test)\n",
        "fin=time.time()\n",
        "\n",
        "print('Tiempo de predicción', fin-empieza)\n",
        "\n",
        "print('El accuracy del modelo es', model.score(X_test, y_test))\n",
        "\n",
        "print('Matriz de confusión')\n",
        "cm = confusion_matrix(y_test, y_pred)\n",
        "print(cm)"
      ]
    },
    {
      "cell_type": "markdown",
      "metadata": {
        "id": "eKcL-Dop2UAX"
      },
      "source": [
        "Observamos que el rendimiento obtenido es inferior al de MultinomialNB y que, además, tanto el entrenamiento como la predicción son más lentos.\n",
        "\n",
        "Aunque intentemos encontrar los hiperparámetros óptimos, el tiempo de entrenamiento y predicción es significativamente mayor en comparación con MultinomialNB, por lo que no consideramos probable obtener un modelo más eficiente."
      ]
    },
    {
      "cell_type": "markdown",
      "metadata": {
        "id": "ycTjNotDkHz1"
      },
      "source": [
        "## Random Forest"
      ]
    },
    {
      "cell_type": "markdown",
      "metadata": {
        "id": "_RdeRGze3Pno"
      },
      "source": [
        "Hemos intentado abordar el problema utilizando Random Forest, ya que es un modelo basado en la combinación de varios árboles de decisión, lo que creemos puede ofrecer un buen rendimiento al aprovechar la diversidad y robustez de los árboles individuales."
      ]
    },
    {
      "cell_type": "code",
      "execution_count": null,
      "metadata": {
        "colab": {
          "base_uri": "https://localhost:8080/"
        },
        "id": "KlnTxzuZ-jAv",
        "outputId": "4a5eedb1-87b7-452d-d25c-f9f11a5b744a"
      },
      "outputs": [
        {
          "name": "stdout",
          "output_type": "stream",
          "text": [
            "Tiempo de entrenamiento 127.04644393920898\n",
            "Tiempo de predicción 5.449697971343994\n",
            "El accuracy del modelo es 0.8339867085722511\n",
            "Matriz de confusión\n",
            "[[53934  1704   448  2404  1846   258]\n",
            " [ 2610 60650  4319  1254   967   734]\n",
            " [  305  4509 12014   264   133    52]\n",
            " [ 1995  1662   183 23459  1271    88]\n",
            " [ 1298  1079    83  1411 18475  1510]\n",
            " [  120   610    21    40  1420  5275]]\n"
          ]
        }
      ],
      "source": [
        "from sklearn.ensemble import RandomForestClassifier\n",
        "\n",
        "# Create the model\n",
        "model = RandomForestClassifier(n_estimators=20)\n",
        "\n",
        "# Train the model\n",
        "empieza=time.time()\n",
        "model.fit(X_train, y_train)\n",
        "fin=time.time()\n",
        "\n",
        "print('Tiempo de entrenamiento', fin - empieza)\n",
        "\n",
        "# Predict the model\n",
        "empieza=time.time()\n",
        "y_pred = model.predict(X_test)\n",
        "fin=time.time()\n",
        "\n",
        "print('Tiempo de predicción', fin-empieza)\n",
        "\n",
        "print('El accuracy del modelo es', model.score(X_test, y_test))\n",
        "\n",
        "print('Matriz de confusión')\n",
        "cm = confusion_matrix(y_test, y_pred)\n",
        "print(cm)"
      ]
    },
    {
      "cell_type": "markdown",
      "metadata": {
        "id": "RE_aOVwb3U-W"
      },
      "source": [
        "Efectivamente, el resultado obtenido con Random Forest es superior al de un solo árbol de decisión. Sin embargo, el tiempo de entrenamiento es mayor.\n",
        "\n",
        "A pesar de esto, no logramos obtener mejores resultados que con MultinomialNB, y, al igual que en el caso de los árboles de decisión, dado que el tiempo de entrenamiento y predicción es considerablemente mayor, no consideramos probable obtener un modelo más eficiente.\n"
      ]
    },
    {
      "cell_type": "markdown",
      "metadata": {
        "id": "UyqUsdQFe_Tv"
      },
      "source": [
        "# **OPCIÓN 2**"
      ]
    },
    {
      "cell_type": "markdown",
      "metadata": {
        "id": "bdcaCZ4gkLaF"
      },
      "source": [
        "Vamos a tratar de resolver el problema de clasificación creando nuestro propio modelo.\n",
        "\n",
        "Para ello vamos a emplear dos capas densas con 16 y 8 neuronas respectivamente y ambas con función de activación relu. Finalmente, cuenta también con una capa de salida de 6 neuronas (ya que estamos tratando de clasificar en 6 clases) y función de activación softmax para que nos devuelva la probabilidad de pertenecer a cada clase."
      ]
    },
    {
      "cell_type": "code",
      "execution_count": null,
      "metadata": {
        "colab": {
          "base_uri": "https://localhost:8080/",
          "height": 1000
        },
        "id": "F8ZPn_KaAjT6",
        "outputId": "5f076dda-81e8-46f9-cb95-d5b889ba466a"
      },
      "outputs": [
        {
          "name": "stderr",
          "output_type": "stream",
          "text": [
            "/usr/local/lib/python3.10/dist-packages/keras/src/layers/core/dense.py:87: UserWarning: Do not pass an `input_shape`/`input_dim` argument to a layer. When using Sequential models, prefer using an `Input(shape)` object as the first layer in the model instead.\n",
            "  super().__init__(activity_regularizer=activity_regularizer, **kwargs)\n"
          ]
        },
        {
          "name": "stdout",
          "output_type": "stream",
          "text": [
            "Epoch 1/10\n",
            "\u001b[1m5211/5211\u001b[0m \u001b[32m━━━━━━━━━━━━━━━━━━━━\u001b[0m\u001b[37m\u001b[0m \u001b[1m16s\u001b[0m 3ms/step - accuracy: 0.7150 - loss: 0.7628 - val_accuracy: 0.8620 - val_loss: 0.3531\n",
            "Epoch 2/10\n",
            "\u001b[1m5211/5211\u001b[0m \u001b[32m━━━━━━━━━━━━━━━━━━━━\u001b[0m\u001b[37m\u001b[0m \u001b[1m17s\u001b[0m 2ms/step - accuracy: 0.8711 - loss: 0.3291 - val_accuracy: 0.8645 - val_loss: 0.3331\n",
            "Epoch 3/10\n",
            "\u001b[1m5211/5211\u001b[0m \u001b[32m━━━━━━━━━━━━━━━━━━━━\u001b[0m\u001b[37m\u001b[0m \u001b[1m11s\u001b[0m 2ms/step - accuracy: 0.8736 - loss: 0.3116 - val_accuracy: 0.8648 - val_loss: 0.3272\n",
            "Epoch 4/10\n",
            "\u001b[1m5211/5211\u001b[0m \u001b[32m━━━━━━━━━━━━━━━━━━━━\u001b[0m\u001b[37m\u001b[0m \u001b[1m20s\u001b[0m 2ms/step - accuracy: 0.8780 - loss: 0.2933 - val_accuracy: 0.8635 - val_loss: 0.3240\n",
            "Epoch 5/10\n",
            "\u001b[1m5211/5211\u001b[0m \u001b[32m━━━━━━━━━━━━━━━━━━━━\u001b[0m\u001b[37m\u001b[0m \u001b[1m21s\u001b[0m 2ms/step - accuracy: 0.8775 - loss: 0.2899 - val_accuracy: 0.8636 - val_loss: 0.3215\n",
            "Epoch 6/10\n",
            "\u001b[1m5211/5211\u001b[0m \u001b[32m━━━━━━━━━━━━━━━━━━━━\u001b[0m\u001b[37m\u001b[0m \u001b[1m12s\u001b[0m 2ms/step - accuracy: 0.8807 - loss: 0.2826 - val_accuracy: 0.8628 - val_loss: 0.3206\n",
            "Epoch 7/10\n",
            "\u001b[1m5211/5211\u001b[0m \u001b[32m━━━━━━━━━━━━━━━━━━━━\u001b[0m\u001b[37m\u001b[0m \u001b[1m12s\u001b[0m 2ms/step - accuracy: 0.8840 - loss: 0.2728 - val_accuracy: 0.8632 - val_loss: 0.3220\n",
            "Epoch 8/10\n",
            "\u001b[1m5211/5211\u001b[0m \u001b[32m━━━━━━━━━━━━━━━━━━━━\u001b[0m\u001b[37m\u001b[0m \u001b[1m20s\u001b[0m 2ms/step - accuracy: 0.8860 - loss: 0.2713 - val_accuracy: 0.8613 - val_loss: 0.3235\n",
            "Epoch 9/10\n",
            "\u001b[1m5211/5211\u001b[0m \u001b[32m━━━━━━━━━━━━━━━━━━━━\u001b[0m\u001b[37m\u001b[0m \u001b[1m11s\u001b[0m 2ms/step - accuracy: 0.8859 - loss: 0.2677 - val_accuracy: 0.8644 - val_loss: 0.3254\n",
            "Epoch 10/10\n",
            "\u001b[1m5211/5211\u001b[0m \u001b[32m━━━━━━━━━━━━━━━━━━━━\u001b[0m\u001b[37m\u001b[0m \u001b[1m21s\u001b[0m 2ms/step - accuracy: 0.8879 - loss: 0.2639 - val_accuracy: 0.8620 - val_loss: 0.3281\n",
            "Tiempo de entrenamiento 166.2876353263855\n",
            "\u001b[1m6513/6513\u001b[0m \u001b[32m━━━━━━━━━━━━━━━━━━━━\u001b[0m\u001b[37m\u001b[0m \u001b[1m9s\u001b[0m 1ms/step\n",
            "Tiempo de predicción 16.841057062149048\n",
            "\u001b[1m6513/6513\u001b[0m \u001b[32m━━━━━━━━━━━━━━━━━━━━\u001b[0m\u001b[37m\u001b[0m \u001b[1m11s\u001b[0m 2ms/step - accuracy: 0.8640 - loss: 0.3241\n",
            "El accuracy del modelo es [0.32605522871017456, 0.8633862137794495]\n"
          ]
        },
        {
          "data": {
            "image/png": "[encoded data removed]",
            "text/plain": [
              "<Figure size 640x480 with 1 Axes>"
            ]
          },
          "metadata": {},
          "output_type": "display_data"
        },
        {
          "data": {
            "image/png": "[encoded data removed]",
            "text/plain": [
              "<Figure size 640x480 with 1 Axes>"
            ]
          },
          "metadata": {},
          "output_type": "display_data"
        }
      ],
      "source": [
        "from tensorflow.keras.models import Sequential\n",
        "from tensorflow.keras.layers import Dense\n",
        "\n",
        "model = Sequential()\n",
        "model.add(Dense(16, input_shape=(X_train.shape[1],), activation='relu'))\n",
        "model.add(Dense(8, activation='relu'))\n",
        "model.add(Dense(6, activation='softmax'))\n",
        "\n",
        "model.compile(loss='sparse_categorical_crossentropy', optimizer='adam', metrics=['accuracy'])\n",
        "\n",
        "empieza=time.time()\n",
        "history=model.fit(X_train.toarray(), y_train, epochs=10, batch_size=32, validation_split=0.2)\n",
        "fin=time.time()\n",
        "\n",
        "print('Tiempo de entrenamiento', fin - empieza)\n",
        "\n",
        "empieza=time.time()\n",
        "y_pred = model.predict(X_test.toarray())\n",
        "fin=time.time()\n",
        "\n",
        "print('Tiempo de predicción', fin-empieza)\n",
        "\n",
        "print('El accuracy del modelo es', model.evaluate(X_test.toarray(), y_test))\n",
        "\n",
        "import matplotlib.pyplot as plt\n",
        "\n",
        "plt.plot(history.history['loss'])\n",
        "plt.plot(history.history['val_loss'])\n",
        "plt.title('Model loss')\n",
        "plt.ylabel('Loss')\n",
        "plt.xlabel('Epoch')\n",
        "plt.legend(['Train', 'Validation'], loc='upper left')\n",
        "plt.show()\n",
        "\n",
        "plt.plot(history.history['accuracy'])\n",
        "plt.plot(history.history['val_accuracy'])\n",
        "plt.title('Model accuracy')\n",
        "plt.ylabel('Accuracy')\n",
        "plt.xlabel('Epoch')\n",
        "plt.legend(['Train', 'Validation'], loc='upper left')\n",
        "plt.show()"
      ]
    },
    {
      "cell_type": "markdown",
      "metadata": {
        "id": "idxLWgHokjQn"
      },
      "source": [
        "Obtenemos un accuracy del 86% en el conjunto de test.\n",
        "\n",
        "Observando las gráficas, en la gráfica del loss observamos que mientras que en el conjunto de entrenamiento sigue disminuyendo, en el conjunto de validación parece que se estanca e incluso empieza a aumentar, esto podría sugerirnos la presencia de un ligero sobreajuste.\n",
        "\n",
        "Lo mismo ocurre con la gráfica de accuracy, mientras que en el conjunto de entrenamiento sigue aumentando a lo largo de los distintos epochs, en el conjunto de test parece que se estanca en torno a unos valores."
      ]
    },
    {
      "cell_type": "markdown",
      "metadata": {
        "id": "NWkT2ZUplUMi"
      },
      "source": [
        "Vamos a tratar de emplear modelos más complejos. Vamos a crear un modelo que consta de:\n",
        "* Capa de **Embedding** para convertir los vectores en vectores densos de tamaño fijo. El objetivo de esta capa es transformar las representaciones discretas de palabras en un espacio continuo.\n",
        "* Capa **RNN**, diseñada para trabajar con datos secuenciales, como texto. A diferencia de las redes Densas, las RNN tienen conexiones que retroalimentan a la propia capa, lo que les permite recordar información de pasos anteriores y capturar patrones a lo largo de secuencias de datos.\n",
        "En este caso, la iniciamos con 16 neuronas.\n",
        "* A continuación añadimos una capa **Densa**, con 8 neuronas y con función de activación relu.\n",
        "* Finalmente,la capa de salida, una capa **Densa** con 6 neuronas y funcion de activación softmax para que nos devuelva la probabilidad de cada clase.\n",
        "\n",
        "Creemos que este modelo puede ofrecer un mejor resultado ya que el orden de las palabras influye y al emplear capas densas no estamos teniendo en cuenta las palabras anteriores.\n"
      ]
    },
    {
      "cell_type": "code",
      "execution_count": null,
      "metadata": {
        "colab": {
          "base_uri": "https://localhost:8080/",
          "height": 1000
        },
        "id": "E3BBjfgyCcSp",
        "outputId": "66d11829-04d7-480b-b728-938e50408f13"
      },
      "outputs": [
        {
          "name": "stdout",
          "output_type": "stream",
          "text": [
            "Epoch 1/5\n",
            "\u001b[1m5211/5211\u001b[0m \u001b[32m━━━━━━━━━━━━━━━━━━━━\u001b[0m\u001b[37m\u001b[0m \u001b[1m540s\u001b[0m 103ms/step - accuracy: 0.3264 - loss: 1.5909 - val_accuracy: 0.3400 - val_loss: 1.5736\n",
            "Epoch 2/5\n",
            "\u001b[1m5211/5211\u001b[0m \u001b[32m━━━━━━━━━━━━━━━━━━━━\u001b[0m\u001b[37m\u001b[0m \u001b[1m548s\u001b[0m 101ms/step - accuracy: 0.3389 - loss: 1.5742 - val_accuracy: 0.3400 - val_loss: 1.5729\n",
            "Epoch 3/5\n",
            "\u001b[1m5211/5211\u001b[0m \u001b[32m━━━━━━━━━━━━━━━━━━━━\u001b[0m\u001b[37m\u001b[0m \u001b[1m563s\u001b[0m 101ms/step - accuracy: 0.3399 - loss: 1.5727 - val_accuracy: 0.3400 - val_loss: 1.5727\n",
            "Epoch 4/5\n",
            "\u001b[1m5211/5211\u001b[0m \u001b[32m━━━━━━━━━━━━━━━━━━━━\u001b[0m\u001b[37m\u001b[0m \u001b[1m529s\u001b[0m 102ms/step - accuracy: 0.3376 - loss: 1.5747 - val_accuracy: 0.3400 - val_loss: 1.5727\n",
            "Epoch 5/5\n",
            "\u001b[1m5211/5211\u001b[0m \u001b[32m━━━━━━━━━━━━━━━━━━━━\u001b[0m\u001b[37m\u001b[0m \u001b[1m559s\u001b[0m 101ms/step - accuracy: 0.3375 - loss: 1.5744 - val_accuracy: 0.3400 - val_loss: 1.5731\n",
            "\u001b[1m6513/6513\u001b[0m \u001b[32m━━━━━━━━━━━━━━━━━━━━\u001b[0m\u001b[37m\u001b[0m \u001b[1m237s\u001b[0m 36ms/step - accuracy: 0.3371 - loss: 1.5728\n",
            "El accuracy del modelo es [1.5733022689819336, 0.3384467661380768]\n"
          ]
        },
        {
          "data": {
            "image/png": "[encoded data removed]",
            "text/plain": [
              "<Figure size 640x480 with 1 Axes>"
            ]
          },
          "metadata": {},
          "output_type": "display_data"
        },
        {
          "data": {
            "image/png": "[encoded data removed]",
            "text/plain": [
              "<Figure size 640x480 with 1 Axes>"
            ]
          },
          "metadata": {},
          "output_type": "display_data"
        }
      ],
      "source": [
        "from tensorflow.keras.models import Sequential\n",
        "from tensorflow.keras.layers import Dense, SimpleRNN, Embedding\n",
        "\n",
        "model = Sequential()\n",
        "model.add(Embedding(input_dim=X_train.shape[1], output_dim=16, input_length=X_train.shape[1]))\n",
        "model.add(SimpleRNN(16, activation='relu'))\n",
        "model.add(Dense(8, activation='relu'))\n",
        "model.add(Dense(6, activation='softmax'))\n",
        "\n",
        "model.compile(loss='sparse_categorical_crossentropy', optimizer='adam', metrics=['accuracy'])\n",
        "\n",
        "history=model.fit(X_train.toarray(), y_train, epochs=5, batch_size=32, validation_split=0.2)\n",
        "\n",
        "print('El accuracy del modelo es', model.evaluate(X_test.toarray(), y_test))\n",
        "\n",
        "import matplotlib.pyplot as plt\n",
        "\n",
        "plt.plot(history.history['loss'])\n",
        "plt.plot(history.history['val_loss'])\n",
        "plt.title('Model loss')\n",
        "plt.ylabel('Loss')\n",
        "plt.xlabel('Epoch')\n",
        "plt.legend(['Train', 'Validation'], loc='upper left')\n",
        "plt.show()\n",
        "\n",
        "plt.plot(history.history['accuracy'])\n",
        "plt.plot(history.history['val_accuracy'])\n",
        "plt.title('Model accuracy')\n",
        "plt.ylabel('Accuracy')\n",
        "plt.xlabel('Epoch')\n",
        "plt.legend(['Train', 'Validation'], loc='upper left')\n",
        "plt.show()"
      ]
    },
    {
      "cell_type": "markdown",
      "metadata": {
        "id": "JEs1nIMI6a0-"
      },
      "source": [
        "Observamos que este modelo produce peores resultados, aunque en este caso no estamos enfrentando un sobreajuste. Además, el tiempo de ejecución fue considerablemente mayor (50 minutos), por lo que creemos que es posible obtener mejores resultados de manera más eficiente."
      ]
    },
    {
      "cell_type": "markdown",
      "metadata": {
        "id": "i4oTaKH86vKz"
      },
      "source": [
        "Finalmente, intentaremos utilizar LSTM, ya que son más eficientes que las RNN tradicionales aunque más complejas, para evaluar si conseguimos mejores resultados.\n",
        "\n",
        "Vamos a crear un modelo que consta de:\n",
        "* Capa de **Embedding** igual que antes, para convertir los vectores en vectores densos de tamaño fijo.\n",
        "* Capa **LSTM**, diseñada para recordar información durante períodos más largos y olvidar información irrelevante.\n",
        "En este caso, la iniciamos con 16 neuronas.\n",
        "* A continuación añadimos una capa **Densa**, con 8 neuronas y con función de activación relu.\n",
        "* Finalmente,la capa de salida, una capa **Densa** con 6 neuronas y funcion de activación softmax para que nos devuelva la probabilidad de cada clase."
      ]
    },
    {
      "cell_type": "code",
      "execution_count": null,
      "metadata": {
        "colab": {
          "base_uri": "https://localhost:8080/",
          "height": 1000
        },
        "id": "0DS5n27KNjCG",
        "outputId": "314c8349-98c3-40be-ad9a-7fb91ca46b98"
      },
      "outputs": [
        {
          "name": "stdout",
          "output_type": "stream",
          "text": [
            "Epoch 1/5\n",
            "\u001b[1m5211/5211\u001b[0m \u001b[32m━━━━━━━━━━━━━━━━━━━━\u001b[0m\u001b[37m\u001b[0m \u001b[1m569s\u001b[0m 109ms/step - accuracy: 0.3368 - loss: 1.5945 - val_accuracy: 0.3400 - val_loss: 1.5730\n",
            "Epoch 2/5\n",
            "\u001b[1m5211/5211\u001b[0m \u001b[32m━━━━━━━━━━━━━━━━━━━━\u001b[0m\u001b[37m\u001b[0m \u001b[1m616s\u001b[0m 108ms/step - accuracy: 0.3381 - loss: 1.5723 - val_accuracy: 0.3400 - val_loss: 1.5733\n",
            "Epoch 3/5\n",
            "\u001b[1m5211/5211\u001b[0m \u001b[32m━━━━━━━━━━━━━━━━━━━━\u001b[0m\u001b[37m\u001b[0m \u001b[1m626s\u001b[0m 109ms/step - accuracy: 0.3372 - loss: 1.5734 - val_accuracy: 0.3400 - val_loss: 1.5751\n",
            "Epoch 4/5\n",
            "\u001b[1m5211/5211\u001b[0m \u001b[32m━━━━━━━━━━━━━━━━━━━━\u001b[0m\u001b[37m\u001b[0m \u001b[1m659s\u001b[0m 116ms/step - accuracy: 0.3398 - loss: 1.5726 - val_accuracy: 0.3400 - val_loss: 1.5731\n",
            "Epoch 5/5\n",
            "\u001b[1m5211/5211\u001b[0m \u001b[32m━━━━━━━━━━━━━━━━━━━━\u001b[0m\u001b[37m\u001b[0m \u001b[1m592s\u001b[0m 110ms/step - accuracy: 0.3379 - loss: 1.5748 - val_accuracy: 0.3400 - val_loss: 1.5728\n",
            "\u001b[1m6513/6513\u001b[0m \u001b[32m━━━━━━━━━━━━━━━━━━━━\u001b[0m\u001b[37m\u001b[0m \u001b[1m278s\u001b[0m 43ms/step - accuracy: 0.3371 - loss: 1.5723\n",
            "El accuracy del modelo es [1.5728827714920044, 0.3384467661380768]\n"
          ]
        },
        {
          "data": {
            "image/png": "[encoded data removed]",
            "text/plain": [
              "<Figure size 640x480 with 1 Axes>"
            ]
          },
          "metadata": {},
          "output_type": "display_data"
        },
        {
          "data": {
            "image/png": "[encoded data removed]",
            "text/plain": [
              "<Figure size 640x480 with 1 Axes>"
            ]
          },
          "metadata": {},
          "output_type": "display_data"
        }
      ],
      "source": [
        "from tensorflow.keras.models import Sequential\n",
        "from tensorflow.keras.layers import Dense, LSTM, Embedding\n",
        "\n",
        "model = Sequential()\n",
        "model.add(Embedding(input_dim=X_train.shape[1], output_dim=16, input_length=X_train.shape[1]))\n",
        "model.add(LSTM(16, activation='relu'))\n",
        "model.add(Dense(8, activation='relu'))\n",
        "model.add(Dense(6, activation='softmax'))\n",
        "\n",
        "model.compile(loss='sparse_categorical_crossentropy', optimizer='adam', metrics=['accuracy'])\n",
        "\n",
        "history=model.fit(X_train.toarray(), y_train, epochs=5, batch_size=32, validation_split=0.2)\n",
        "\n",
        "print('El accuracy del modelo es', model.evaluate(X_test.toarray(), y_test))\n",
        "\n",
        "import matplotlib.pyplot as plt\n",
        "\n",
        "plt.plot(history.history['loss'])\n",
        "plt.plot(history.history['val_loss'])\n",
        "plt.title('Model loss')\n",
        "plt.ylabel('Loss')\n",
        "plt.xlabel('Epoch')\n",
        "plt.legend(['Train', 'Validation'], loc='upper left')\n",
        "plt.show()\n",
        "\n",
        "plt.plot(history.history['accuracy'])\n",
        "plt.plot(history.history['val_accuracy'])\n",
        "plt.title('Model accuracy')\n",
        "plt.ylabel('Accuracy')\n",
        "plt.xlabel('Epoch')\n",
        "plt.legend(['Train', 'Validation'], loc='upper left')\n",
        "plt.show()"
      ]
    },
    {
      "cell_type": "markdown",
      "metadata": {
        "id": "WawfbNyY8U6n"
      },
      "source": [
        "Observamos que el rendimiento es similar al modelo anterior, aunque los tiempos de entrenamiento son ligeramente inferiores."
      ]
    },
    {
      "cell_type": "markdown",
      "metadata": {
        "id": "Mhb2iVeS7vqc"
      },
      "source": [
        "Observamos que el rendimiento es similar al anterior aunque los tiempos de entrenamiento son ligeramente inferiores."
      ]
    },
    {
      "cell_type": "markdown",
      "metadata": {
        "id": "ozg1AXNk8aeo"
      },
      "source": [
        "## **Conclusiones**"
      ]
    },
    {
      "cell_type": "markdown",
      "metadata": {
        "id": "vnrmWjdx8eIc"
      },
      "source": [
        "Hemos llegado a la conclusión de que, para este problema en particular, emplear modelos más simples y tradicionales, como MultinomialNB o una red neuronal compuesta únicamente por capas densas, es más eficiente y nos permite obtener mejores resultados. En comparación, modelos más complejos, como árboles de decisión o redes neuronales recurrentes, presentan tiempos de entrenamiento significativamente mayores sin ofrecer una mejora sustancial en el rendimiento. Estos modelos complejos, aunque potentes en ciertos contextos, no resultan ser la opción más adecuada para este tipo de tarea debido a su mayor costo computacional y la falta de una mejora considerable en la precisión."
      ]
    }
  ],
  "metadata": {
    "accelerator": "GPU",
    "colab": {
      "gpuType": "T4",
      "provenance": []
    },
    "kernelspec": {
      "display_name": "Python 3",
      "name": "python3"
    },
    "language_info": {
      "name": "python",
      "version": "3.13.0"
    }
  },
  "nbformat": 4,
  "nbformat_minor": 0
}
